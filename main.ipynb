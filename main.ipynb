{
 "cells": [
  {
   "cell_type": "markdown",
   "id": "95da7e7c",
   "metadata": {},
   "source": [
    "## **PDF QnA with ChromaDB and Groq**"
   ]
  },
  {
   "cell_type": "markdown",
   "id": "94477867",
   "metadata": {},
   "source": [
    "### Importing Libraries"
   ]
  },
  {
   "cell_type": "code",
   "execution_count": 9,
   "id": "b4bc05f1",
   "metadata": {},
   "outputs": [],
   "source": [
    "import os\n",
    "import yaspin\n",
    "import chromadb\n",
    "import argparse\n",
    "import pypdfium2\n",
    "from groq import Groq\n",
    "from chromadb.utils import embedding_functions\n",
    "from langchain.text_splitter import RecursiveCharacterTextSplitter"
   ]
  },
  {
   "cell_type": "markdown",
   "id": "86289ea6",
   "metadata": {},
   "source": [
    "### Config Setup"
   ]
  },
  {
   "cell_type": "code",
   "execution_count": 2,
   "id": "698d52f8",
   "metadata": {},
   "outputs": [],
   "source": [
    "GROQ_API_KEY = os.getenv(\"GROQ_API_KEY\")\n",
    "GROQ_CLIENT  = Groq(api_key=GROQ_API_KEY)"
   ]
  },
  {
   "cell_type": "code",
   "execution_count": 13,
   "id": "ace017da",
   "metadata": {},
   "outputs": [
    {
     "data": {
      "text/plain": [
       "<groq.Groq at 0x1bc3ebfc440>"
      ]
     },
     "execution_count": 13,
     "metadata": {},
     "output_type": "execute_result"
    }
   ],
   "source": [
    "GROQ_CLIENT"
   ]
  },
  {
   "cell_type": "code",
   "execution_count": 3,
   "id": "85372478",
   "metadata": {},
   "outputs": [
    {
     "name": "stdout",
     "output_type": "stream",
     "text": [
      "✅ Created new collection: pdf_qa\n"
     ]
    }
   ],
   "source": [
    "chromadb_client = chromadb.Client()\n",
    "\n",
    "collection_name = \"pdf_qa\"\n",
    "existing_collections = chromadb_client.list_collections()\n",
    "\n",
    "if collection_name in [c.name for c in existing_collections]:\n",
    "    collection = chromadb_client.get_collection(name=collection_name)\n",
    "    print(f\"✅ Using existing collection: {collection_name}\")\n",
    "else:\n",
    "    collection = chromadb_client.create_collection(name=collection_name)\n",
    "    print(f\"✅ Created new collection: {collection_name}\")\n",
    "\n",
    "embedding_function = embedding_functions.DefaultEmbeddingFunction() ### By default, Chroma uses the Sentence Transformers all-MiniLM-L6-v2 model to compute embeddings for documents."
   ]
  },
  {
   "cell_type": "markdown",
   "id": "bf45cb58",
   "metadata": {},
   "source": [
    "### Load PDF (using PyPdfium2)"
   ]
  },
  {
   "cell_type": "code",
   "execution_count": 4,
   "id": "58c25061",
   "metadata": {},
   "outputs": [],
   "source": [
    "def load_pdf_text(file_path):\n",
    "\n",
    "    pdf  = pypdfium2.PdfDocument(file_path)\n",
    "    text = \"\"\n",
    "\n",
    "    for page in pdf:\n",
    "        text += page.get_textpage().get_text()\n",
    "\n",
    "    return text"
   ]
  },
  {
   "cell_type": "markdown",
   "id": "b6f7464e",
   "metadata": {},
   "source": [
    "### Split Text (using LangChain)"
   ]
  },
  {
   "cell_type": "code",
   "execution_count": 5,
   "id": "312a94ab",
   "metadata": {},
   "outputs": [],
   "source": [
    "def split_text(text, chunk_size=500, chunk_overlap=50):\n",
    "    text_splitter = RecursiveCharacterTextSplitter(\n",
    "        chunk_size=chunk_size,\n",
    "        chunk_overlap=chunk_overlap\n",
    "    )\n",
    "\n",
    "    splitted_text = text_splitter.split_text(text)\n",
    "\n",
    "    return splitted_text"
   ]
  },
  {
   "cell_type": "markdown",
   "id": "65c9278f",
   "metadata": {},
   "source": [
    "### Store Embeddings"
   ]
  },
  {
   "cell_type": "code",
   "execution_count": 6,
   "id": "cbbe2f10",
   "metadata": {},
   "outputs": [],
   "source": [
    "def store_embeddings(chunks):\n",
    "    for idx, chunk in enumerate(chunks):\n",
    "        collection.add(\n",
    "            ids=[str(idx)],\n",
    "            documents=[chunk],\n",
    "            embeddings=[embedding_function(chunk)]\n",
    "        )"
   ]
  },
  {
   "cell_type": "markdown",
   "id": "407ba9eb",
   "metadata": {},
   "source": [
    "### Search for Context"
   ]
  },
  {
   "cell_type": "code",
   "execution_count": 7,
   "id": "2e7725f8",
   "metadata": {},
   "outputs": [],
   "source": [
    "def search_context(query, top_k=3):\n",
    "    query_embeddings = embedding_function(query)\n",
    "    results = collection.query(\n",
    "        query_embeddings=query_embeddings,\n",
    "        n_results=top_k\n",
    "    )\n",
    "\n",
    "    if results[\"documents\"]:\n",
    "        context = \"\\n\".join(doc[0] for doc in results[\"documents\"])\n",
    "        return context\n",
    "    return \"\""
   ]
  },
  {
   "cell_type": "markdown",
   "id": "87e66767",
   "metadata": {},
   "source": [
    "### Query to Groq"
   ]
  },
  {
   "cell_type": "code",
   "execution_count": 10,
   "id": "a14b61f8",
   "metadata": {},
   "outputs": [],
   "source": [
    "def query_groq(context, question):\n",
    "    prompt = f\"Use the following context to answer the question.\\n\\nContext:\\n{context}\\n\\nQuestion: {question}\"\n",
    "    \n",
    "    with yaspin(text=\"Thinking...\", color=\"cyan\") as spinner:\n",
    "        try:\n",
    "            response = GROQ_CLIENT.chat.completions.create(\n",
    "                model=\"llama3-70b-4096\",\n",
    "                messages=[\n",
    "                    {\n",
    "                        \"role\": \"user\",\n",
    "                        \"content\": prompt\n",
    "                    }\n",
    "                ],\n",
    "                temperature=0.1,\n",
    "                max_tokens=512\n",
    "            )\n",
    "\n",
    "            spinner.ok(\"✅ \")\n",
    "            output_text = response.choices[0].message.content.strip()\n",
    "\n",
    "            return output_text\n",
    "        except Exception as e:\n",
    "            spinner.fail(\"💥 \")\n",
    "            raise e\n"
   ]
  },
  {
   "cell_type": "markdown",
   "id": "6af141be",
   "metadata": {},
   "source": [
    "### Main function"
   ]
  },
  {
   "cell_type": "code",
   "execution_count": 11,
   "id": "c907e73c",
   "metadata": {},
   "outputs": [
    {
     "name": "stderr",
     "output_type": "stream",
     "text": [
      "usage: ipykernel_launcher.py [-h] --pdf PDF\n",
      "ipykernel_launcher.py: error: the following arguments are required: --pdf\n"
     ]
    },
    {
     "ename": "SystemExit",
     "evalue": "2",
     "output_type": "error",
     "traceback": [
      "An exception has occurred, use %tb to see the full traceback.\n",
      "\u001b[31mSystemExit\u001b[39m\u001b[31m:\u001b[39m 2\n"
     ]
    },
    {
     "name": "stderr",
     "output_type": "stream",
     "text": [
      "c:\\Users\\akdeshmukh\\Documents\\AI_ML_DL\\pdf_qa\\pdf_qa_venv\\Lib\\site-packages\\IPython\\core\\interactiveshell.py:3678: UserWarning: To exit: use 'exit', 'quit', or Ctrl-D.\n",
      "  warn(\"To exit: use 'exit', 'quit', or Ctrl-D.\", stacklevel=1)\n"
     ]
    }
   ],
   "source": [
    "if __name__ == \"__main__\":\n",
    "    \n",
    "    # taking pdf from terminal\n",
    "    parser = argparse.ArgumentParser(description=\"PDF-based Question Answering with Groq and ChromaDB\")\n",
    "    parser.add_argument(\n",
    "        \"--pdf\", \n",
    "        type=str, \n",
    "        required=True, \n",
    "        help=\"Path to the PDF document\"\n",
    "    )\n",
    "    args = parser.parse_args()\n",
    "\n",
    "    pdf_file_path = args.pdf\n",
    "\n",
    "    if not os.path.exists(pdf_file_path):\n",
    "        print(f\"File not found: {pdf_file_path}\")\n",
    "        exit(1)\n",
    "\n",
    "    print(\"[1] Loading and processing PDF...\")\n",
    "    pdf_text = load_pdf_text(pdf_file_path)\n",
    "    print(\"[2] Splitting text and storing embeddings in ChromaDB\")\n",
    "    chunks = split_text(pdf_text)\n",
    "    store_embeddings(chunks)\n",
    "\n",
    "    while True:\n",
    "        user_question = input(\"\\nAsk a question (or type 'exit'): \")\n",
    "        if user_question.lower() == 'exit':\n",
    "            break\n",
    "        context = search_context(user_question)\n",
    "        if not context:\n",
    "            print(\"No relevant context found.\")\n",
    "            continue\n",
    "        answer = query_groq(context, user_question)\n",
    "        print(\"\\nAnswer:\", answer)\n"
   ]
  },
  {
   "cell_type": "code",
   "execution_count": null,
   "id": "7bf66798",
   "metadata": {},
   "outputs": [],
   "source": []
  }
 ],
 "metadata": {
  "kernelspec": {
   "display_name": "PDF_QA_VENV",
   "language": "python",
   "name": "pdf_qa_venv"
  },
  "language_info": {
   "codemirror_mode": {
    "name": "ipython",
    "version": 3
   },
   "file_extension": ".py",
   "mimetype": "text/x-python",
   "name": "python",
   "nbconvert_exporter": "python",
   "pygments_lexer": "ipython3",
   "version": "3.12.2"
  }
 },
 "nbformat": 4,
 "nbformat_minor": 5
}
